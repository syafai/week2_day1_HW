{
 "cells": [
  {
   "cell_type": "code",
   "execution_count": null,
   "id": "93a107b7",
   "metadata": {},
   "outputs": [],
   "source": []
  },
  {
   "cell_type": "code",
   "execution_count": 14,
   "id": "52c77450",
   "metadata": {},
   "outputs": [
    {
     "name": "stdout",
     "output_type": "stream",
     "text": [
      "Hello user1, enter your age 10\n",
      "Hello user2, enter your age 30\n",
      "The age difference between the two users is 20\n"
     ]
    }
   ],
   "source": [
    "#Exercise #1\n",
    "#Accept two user ages as inputs and give us the difference between them. (The Answer should always be a positive output)\n",
    "\n",
    "user1 = int(input(\"Hello user1, enter your age \"))\n",
    "user2 = int(input(\"Hello user2, enter your age \"))\n",
    "\n",
    "difference = abs(user1 - user2)\n",
    "print(f\"The age difference between the two users is {difference}\")\n"
   ]
  },
  {
   "cell_type": "code",
   "execution_count": null,
   "id": "8e0ab33b",
   "metadata": {},
   "outputs": [],
   "source": [
    "#Exercise #2\n",
    "#Accept 3 user inputs for variables named noun, verb and adjective. Print out a formatted string using the outputs.\n",
    "\n",
    "noun = input(\"Enter a noun: \")\n",
    "verb = input(\"Enter a verb: \")\n",
    "adjective = input(\"Enter an adjective: \")\n",
    "\n",
    "formatted_string = f\"The {noun} {adjective} is {verb}.\"\n",
    "\n",
    "print(formatted_string)"
   ]
  },
  {
   "cell_type": "code",
   "execution_count": 23,
   "id": "f0566b76",
   "metadata": {},
   "outputs": [
    {
     "name": "stdout",
     "output_type": "stream",
     "text": [
      "How old are you? 65\n",
      "You are an adult\n"
     ]
    }
   ],
   "source": [
    "#Exercise #3\n",
    "#Take in a users input for their age, if they are younger than 18 print kids, if they're 18 to 65 print adults, else print seniors\n",
    "\n",
    "users_age = int(input(\"How old are you? \"))\n",
    "\n",
    "if users_age < 18:\n",
    "    print(\"You are still a kid\")\n",
    "elif users_age >= 18 and users_age <= 65:\n",
    "    print(\"You are an adult\")\n",
    "else:\n",
    "    print(\"You are a senior\")\n",
    "\n",
    "\n",
    "\n"
   ]
  },
  {
   "cell_type": "code",
   "execution_count": 25,
   "id": "2032b089",
   "metadata": {},
   "outputs": [
    {
     "name": "stdout",
     "output_type": "stream",
     "text": [
      "Enter a number and I'll square it 55\n",
      "3025\n"
     ]
    }
   ],
   "source": [
    "#Exercise #4\n",
    "#Take in a number from a user input, output the number squared.\n",
    "\n",
    "users_input = int(input(\"Enter a number and I'll square it \"))\n",
    "\n",
    "result = users_input **2\n",
    "print(result)"
   ]
  },
  {
   "cell_type": "code",
   "execution_count": 37,
   "id": "5f155c83",
   "metadata": {},
   "outputs": [
    {
     "name": "stdout",
     "output_type": "stream",
     "text": [
      "true\n",
      "true\n",
      "false\n",
      "true\n",
      "false\n"
     ]
    },
    {
     "ename": "TypeError",
     "evalue": "'int' object is not iterable",
     "output_type": "error",
     "traceback": [
      "\u001b[1;31m---------------------------------------------------------------------------\u001b[0m",
      "\u001b[1;31mTypeError\u001b[0m                                 Traceback (most recent call last)",
      "Cell \u001b[1;32mIn[37], line 43\u001b[0m\n\u001b[0;32m     39\u001b[0m \u001b[38;5;28;01melse\u001b[39;00m:\n\u001b[0;32m     40\u001b[0m     \u001b[38;5;28mprint\u001b[39m(\u001b[38;5;124m\"\u001b[39m\u001b[38;5;124mfalse\u001b[39m\u001b[38;5;124m\"\u001b[39m)\n\u001b[1;32m---> 43\u001b[0m \u001b[38;5;28;01mfor\u001b[39;00m word \u001b[38;5;129;01min\u001b[39;00m len1:\n\u001b[0;32m     44\u001b[0m     \u001b[38;5;28mprint\u001b[39m(word)\n",
      "\u001b[1;31mTypeError\u001b[0m: 'int' object is not iterable"
     ]
    }
   ],
   "source": [
    "#Exercise #5\n",
    "#Check the below variables' length. If the length of the word is greater than 5 output True, if it is less than 5, output False\n",
    "\n",
    "\n",
    "word1 = \"panini\"\n",
    "word2 = \"bulbasaur\"\n",
    "word3 = \"pie\"\n",
    "word4 = \"dolphin\"\n",
    "word5 = \"dog\"\n",
    "\n",
    "len1 = len(word1)\n",
    "len2 = len(word2)\n",
    "len3 = len(word3)\n",
    "len4 = len(word4)\n",
    "len5 = len(word5)\n",
    "\n",
    "if len1 > 5:\n",
    "    print(\"true\")\n",
    "else:\n",
    "    print(\"false\")\n",
    "\n",
    "if len2 > 5:\n",
    "    print(\"true\")\n",
    "else:\n",
    "    print(\"false\")\n",
    "    \n",
    "if len3 > 5:\n",
    "    print(\"true\")\n",
    "else:\n",
    "    print(\"false\")\n",
    "    \n",
    "if len4 > 5:\n",
    "    print(\"true\")\n",
    "else:\n",
    "    print(\"false\")\n",
    "    \n",
    "if len5 > 5:\n",
    "    print(\"true\")\n",
    "else:\n",
    "    print(\"false\")\n",
    "    \n",
    "\n",
    "\n",
    "\n",
    "\n",
    "\n",
    "\n",
    "\n"
   ]
  },
  {
   "cell_type": "code",
   "execution_count": null,
   "id": "84d41e82",
   "metadata": {},
   "outputs": [],
   "source": []
  }
 ],
 "metadata": {
  "kernelspec": {
   "display_name": "Python 3 (ipykernel)",
   "language": "python",
   "name": "python3"
  },
  "language_info": {
   "codemirror_mode": {
    "name": "ipython",
    "version": 3
   },
   "file_extension": ".py",
   "mimetype": "text/x-python",
   "name": "python",
   "nbconvert_exporter": "python",
   "pygments_lexer": "ipython3",
   "version": "3.10.9"
  }
 },
 "nbformat": 4,
 "nbformat_minor": 5
}
